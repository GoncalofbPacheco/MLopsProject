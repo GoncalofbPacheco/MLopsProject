{
 "cells": [
  {
   "cell_type": "code",
   "execution_count": 1,
   "id": "12506999",
   "metadata": {},
   "outputs": [],
   "source": [
    "import pandas as pd\n",
    "import numpy as np\n",
    "import matplotlib.pyplot as plt\n",
    "import seaborn as sns"
   ]
  },
  {
   "cell_type": "code",
   "execution_count": 2,
   "id": "06ac6f82",
   "metadata": {},
   "outputs": [
    {
     "data": {
      "text/html": [
       "<pre style=\"white-space:pre;overflow-x:auto;line-height:normal;font-family:Menlo,'DejaVu Sans Mono',consolas,'Courier New',monospace\"><span style=\"color: #7fbfbf; text-decoration-color: #7fbfbf\">[05/28/25 22:51:38] </span><span style=\"color: #000080; text-decoration-color: #000080\">INFO    </span> Using <span style=\"color: #008000; text-decoration-color: #008000\">'/Users/goncalopacheco/Documents/Master'</span>s/1º Year/2º             <span style=\"color: #7f7f7f; text-decoration-color: #7f7f7f\">__init__.py:270</span>\n",
       "<span style=\"color: #7fbfbf; text-decoration-color: #7fbfbf\">                    </span>         semester/Machine Learning                                              <span style=\"color: #7f7f7f; text-decoration-color: #7f7f7f\">               </span>\n",
       "<span style=\"color: #7fbfbf; text-decoration-color: #7fbfbf\">                    </span>         Operations/Project/env_1/lib/python3.<span style=\"color: #008080; text-decoration-color: #008080; font-weight: bold\">11</span>/site-packages/kedro/framework/ <span style=\"color: #7f7f7f; text-decoration-color: #7f7f7f\">               </span>\n",
       "<span style=\"color: #7fbfbf; text-decoration-color: #7fbfbf\">                    </span>         project/rich_logging.yml' as logging configuration.                    <span style=\"color: #7f7f7f; text-decoration-color: #7f7f7f\">               </span>\n",
       "</pre>\n"
      ],
      "text/plain": [
       "\u001b[2;36m[05/28/25 22:51:38]\u001b[0m\u001b[2;36m \u001b[0m\u001b[34mINFO    \u001b[0m Using \u001b[32m'/Users/goncalopacheco/Documents/Master'\u001b[0ms/1º Year/2º             \u001b[2m__init__.py\u001b[0m\u001b[2m:\u001b[0m\u001b[2m270\u001b[0m\n",
       "\u001b[2;36m                    \u001b[0m         semester/Machine Learning                                              \u001b[2m               \u001b[0m\n",
       "\u001b[2;36m                    \u001b[0m         Operations/Project/env_1/lib/python3.\u001b[1;36m11\u001b[0m/site-packages/kedro/framework/ \u001b[2m               \u001b[0m\n",
       "\u001b[2;36m                    \u001b[0m         project/rich_logging.yml' as logging configuration.                    \u001b[2m               \u001b[0m\n"
      ]
     },
     "metadata": {},
     "output_type": "display_data"
    },
    {
     "data": {
      "text/html": [
       "<pre style=\"white-space:pre;overflow-x:auto;line-height:normal;font-family:Menlo,'DejaVu Sans Mono',consolas,'Courier New',monospace\"><span style=\"color: #7fbfbf; text-decoration-color: #7fbfbf\">                    </span><span style=\"color: #000080; text-decoration-color: #000080\">INFO    </span> Registered line magic <span style=\"color: #008000; text-decoration-color: #008000\">'%reload_kedro'</span>                                   <span style=\"color: #7f7f7f; text-decoration-color: #7f7f7f\">__init__.py:63</span>\n",
       "</pre>\n"
      ],
      "text/plain": [
       "\u001b[2;36m                   \u001b[0m\u001b[2;36m \u001b[0m\u001b[34mINFO    \u001b[0m Registered line magic \u001b[32m'%reload_kedro'\u001b[0m                                   \u001b[2m__init__.py\u001b[0m\u001b[2m:\u001b[0m\u001b[2m63\u001b[0m\n"
      ]
     },
     "metadata": {},
     "output_type": "display_data"
    },
    {
     "data": {
      "text/html": [
       "<pre style=\"white-space:pre;overflow-x:auto;line-height:normal;font-family:Menlo,'DejaVu Sans Mono',consolas,'Courier New',monospace\"><span style=\"color: #7fbfbf; text-decoration-color: #7fbfbf\">                    </span><span style=\"color: #000080; text-decoration-color: #000080\">INFO    </span> Registered line magic <span style=\"color: #008000; text-decoration-color: #008000\">'%load_node'</span>                                      <span style=\"color: #7f7f7f; text-decoration-color: #7f7f7f\">__init__.py:65</span>\n",
       "</pre>\n"
      ],
      "text/plain": [
       "\u001b[2;36m                   \u001b[0m\u001b[2;36m \u001b[0m\u001b[34mINFO    \u001b[0m Registered line magic \u001b[32m'%load_node'\u001b[0m                                      \u001b[2m__init__.py\u001b[0m\u001b[2m:\u001b[0m\u001b[2m65\u001b[0m\n"
      ]
     },
     "metadata": {},
     "output_type": "display_data"
    },
    {
     "data": {
      "text/html": [
       "<pre style=\"white-space:pre;overflow-x:auto;line-height:normal;font-family:Menlo,'DejaVu Sans Mono',consolas,'Courier New',monospace\"><span style=\"color: #7fbfbf; text-decoration-color: #7fbfbf\">                    </span><span style=\"color: #000080; text-decoration-color: #000080\">INFO    </span> Resolved project path as: <span style=\"color: #800080; text-decoration-color: #800080\">/Users/goncalopacheco/Documents/</span><span style=\"color: #ff00ff; text-decoration-color: #ff00ff\">Master</span>'s/1º  <span style=\"color: #7f7f7f; text-decoration-color: #7f7f7f\">__init__.py:180</span>\n",
       "<span style=\"color: #7fbfbf; text-decoration-color: #7fbfbf\">                    </span>         Year/2º semester/Machine Learning Operations/Project/mlopsproject.     <span style=\"color: #7f7f7f; text-decoration-color: #7f7f7f\">               </span>\n",
       "<span style=\"color: #7fbfbf; text-decoration-color: #7fbfbf\">                    </span>         To set a different path, run <span style=\"color: #008000; text-decoration-color: #008000\">'%reload_kedro &lt;project_root&gt;'</span>            <span style=\"color: #7f7f7f; text-decoration-color: #7f7f7f\">               </span>\n",
       "</pre>\n"
      ],
      "text/plain": [
       "\u001b[2;36m                   \u001b[0m\u001b[2;36m \u001b[0m\u001b[34mINFO    \u001b[0m Resolved project path as: \u001b[35m/Users/goncalopacheco/Documents/\u001b[0m\u001b[95mMaster\u001b[0m's/1º  \u001b[2m__init__.py\u001b[0m\u001b[2m:\u001b[0m\u001b[2m180\u001b[0m\n",
       "\u001b[2;36m                    \u001b[0m         Year/2º semester/Machine Learning Operations/Project/mlopsproject.     \u001b[2m               \u001b[0m\n",
       "\u001b[2;36m                    \u001b[0m         To set a different path, run \u001b[32m'%reload_kedro \u001b[0m\u001b[32m<\u001b[0m\u001b[32mproject_root\u001b[0m\u001b[32m>\u001b[0m\u001b[32m'\u001b[0m            \u001b[2m               \u001b[0m\n"
      ]
     },
     "metadata": {},
     "output_type": "display_data"
    },
    {
     "data": {
      "text/html": [
       "<pre style=\"white-space:pre;overflow-x:auto;line-height:normal;font-family:Menlo,'DejaVu Sans Mono',consolas,'Courier New',monospace\"><span style=\"color: #7fbfbf; text-decoration-color: #7fbfbf\">                    </span><span style=\"color: #808000; text-decoration-color: #808000\">WARNING </span> <span style=\"color: #800080; text-decoration-color: #800080\">/Users/goncalopacheco/Documents/</span><span style=\"color: #ff00ff; text-decoration-color: #ff00ff\">Master</span>'s/1º Year/2º semester/Machine   <a href=\"file:///Users/goncalopacheco/.local/share/uv/python/cpython-3.11.12-macos-aarch64-none/lib/python3.11/warnings.py\" target=\"_blank\"><span style=\"color: #7f7f7f; text-decoration-color: #7f7f7f\">warnings.py</span></a><span style=\"color: #7f7f7f; text-decoration-color: #7f7f7f\">:</span><a href=\"file:///Users/goncalopacheco/.local/share/uv/python/cpython-3.11.12-macos-aarch64-none/lib/python3.11/warnings.py#110\" target=\"_blank\"><span style=\"color: #7f7f7f; text-decoration-color: #7f7f7f\">110</span></a>\n",
       "<span style=\"color: #7fbfbf; text-decoration-color: #7fbfbf\">                    </span>         Learning                                                               <span style=\"color: #7f7f7f; text-decoration-color: #7f7f7f\">               </span>\n",
       "<span style=\"color: #7fbfbf; text-decoration-color: #7fbfbf\">                    </span>         Operations/Project/env_1/lib/python3.<span style=\"color: #008080; text-decoration-color: #008080; font-weight: bold\">11</span>/site-packages/kedro/io/data_ca <span style=\"color: #7f7f7f; text-decoration-color: #7f7f7f\">               </span>\n",
       "<span style=\"color: #7fbfbf; text-decoration-color: #7fbfbf\">                    </span>         talog.py:<span style=\"color: #008080; text-decoration-color: #008080; font-weight: bold\">165</span>: KedroDeprecationWarning: `DataCatalog` has been          <span style=\"color: #7f7f7f; text-decoration-color: #7f7f7f\">               </span>\n",
       "<span style=\"color: #7fbfbf; text-decoration-color: #7fbfbf\">                    </span>         deprecated and will be replaced by `KedroDataCatalog`, in Kedro        <span style=\"color: #7f7f7f; text-decoration-color: #7f7f7f\">               </span>\n",
       "<span style=\"color: #7fbfbf; text-decoration-color: #7fbfbf\">                    </span>         <span style=\"color: #008080; text-decoration-color: #008080; font-weight: bold\">1.0</span>.<span style=\"color: #008080; text-decoration-color: #008080; font-weight: bold\">0.</span>Currently some `KedroDataCatalog` APIs have been retained for    <span style=\"color: #7f7f7f; text-decoration-color: #7f7f7f\">               </span>\n",
       "<span style=\"color: #7fbfbf; text-decoration-color: #7fbfbf\">                    </span>         compatibility with `DataCatalog`, including the `datasets` property    <span style=\"color: #7f7f7f; text-decoration-color: #7f7f7f\">               </span>\n",
       "<span style=\"color: #7fbfbf; text-decoration-color: #7fbfbf\">                    </span>         and the `get_datasets`, `_get_datasets`, `add`,` list`,                <span style=\"color: #7f7f7f; text-decoration-color: #7f7f7f\">               </span>\n",
       "<span style=\"color: #7fbfbf; text-decoration-color: #7fbfbf\">                    </span>         `add_feed_dict`, and `shallow_copy` methods. These will be removed or  <span style=\"color: #7f7f7f; text-decoration-color: #7f7f7f\">               </span>\n",
       "<span style=\"color: #7fbfbf; text-decoration-color: #7fbfbf\">                    </span>         replaced with updated alternatives in Kedro <span style=\"color: #008080; text-decoration-color: #008080; font-weight: bold\">1.0</span>.<span style=\"color: #008080; text-decoration-color: #008080; font-weight: bold\">0</span>. For more details,   <span style=\"color: #7f7f7f; text-decoration-color: #7f7f7f\">               </span>\n",
       "<span style=\"color: #7fbfbf; text-decoration-color: #7fbfbf\">                    </span>         refer to the documentation:                                            <span style=\"color: #7f7f7f; text-decoration-color: #7f7f7f\">               </span>\n",
       "<span style=\"color: #7fbfbf; text-decoration-color: #7fbfbf\">                    </span>         <span style=\"color: #0000ff; text-decoration-color: #0000ff; text-decoration: underline\">https://docs.kedro.org/en/stable/data/index.html#kedrodatacatalog-expe</span> <span style=\"color: #7f7f7f; text-decoration-color: #7f7f7f\">               </span>\n",
       "<span style=\"color: #7fbfbf; text-decoration-color: #7fbfbf\">                    </span>         <span style=\"color: #0000ff; text-decoration-color: #0000ff; text-decoration: underline\">rimental-feature</span>                                                       <span style=\"color: #7f7f7f; text-decoration-color: #7f7f7f\">               </span>\n",
       "<span style=\"color: #7fbfbf; text-decoration-color: #7fbfbf\">                    </span>           <span style=\"color: #800080; text-decoration-color: #800080; font-weight: bold\">warnings.warn</span><span style=\"font-weight: bold\">(</span>                                                       <span style=\"color: #7f7f7f; text-decoration-color: #7f7f7f\">               </span>\n",
       "<span style=\"color: #7fbfbf; text-decoration-color: #7fbfbf\">                    </span>                                                                                <span style=\"color: #7f7f7f; text-decoration-color: #7f7f7f\">               </span>\n",
       "</pre>\n"
      ],
      "text/plain": [
       "\u001b[2;36m                   \u001b[0m\u001b[2;36m \u001b[0m\u001b[33mWARNING \u001b[0m \u001b[35m/Users/goncalopacheco/Documents/\u001b[0m\u001b[95mMaster\u001b[0m's/1º Year/2º semester/Machine   \u001b]8;id=427188;file:///Users/goncalopacheco/.local/share/uv/python/cpython-3.11.12-macos-aarch64-none/lib/python3.11/warnings.py\u001b\\\u001b[2mwarnings.py\u001b[0m\u001b]8;;\u001b\\\u001b[2m:\u001b[0m\u001b]8;id=470902;file:///Users/goncalopacheco/.local/share/uv/python/cpython-3.11.12-macos-aarch64-none/lib/python3.11/warnings.py#110\u001b\\\u001b[2m110\u001b[0m\u001b]8;;\u001b\\\n",
       "\u001b[2;36m                    \u001b[0m         Learning                                                               \u001b[2m               \u001b[0m\n",
       "\u001b[2;36m                    \u001b[0m         Operations/Project/env_1/lib/python3.\u001b[1;36m11\u001b[0m/site-packages/kedro/io/data_ca \u001b[2m               \u001b[0m\n",
       "\u001b[2;36m                    \u001b[0m         talog.py:\u001b[1;36m165\u001b[0m: KedroDeprecationWarning: `DataCatalog` has been          \u001b[2m               \u001b[0m\n",
       "\u001b[2;36m                    \u001b[0m         deprecated and will be replaced by `KedroDataCatalog`, in Kedro        \u001b[2m               \u001b[0m\n",
       "\u001b[2;36m                    \u001b[0m         \u001b[1;36m1.0\u001b[0m.\u001b[1;36m0.\u001b[0mCurrently some `KedroDataCatalog` APIs have been retained for    \u001b[2m               \u001b[0m\n",
       "\u001b[2;36m                    \u001b[0m         compatibility with `DataCatalog`, including the `datasets` property    \u001b[2m               \u001b[0m\n",
       "\u001b[2;36m                    \u001b[0m         and the `get_datasets`, `_get_datasets`, `add`,` list`,                \u001b[2m               \u001b[0m\n",
       "\u001b[2;36m                    \u001b[0m         `add_feed_dict`, and `shallow_copy` methods. These will be removed or  \u001b[2m               \u001b[0m\n",
       "\u001b[2;36m                    \u001b[0m         replaced with updated alternatives in Kedro \u001b[1;36m1.0\u001b[0m.\u001b[1;36m0\u001b[0m. For more details,   \u001b[2m               \u001b[0m\n",
       "\u001b[2;36m                    \u001b[0m         refer to the documentation:                                            \u001b[2m               \u001b[0m\n",
       "\u001b[2;36m                    \u001b[0m         \u001b[4;94mhttps://docs.kedro.org/en/stable/data/index.html#kedrodatacatalog-expe\u001b[0m \u001b[2m               \u001b[0m\n",
       "\u001b[2;36m                    \u001b[0m         \u001b[4;94mrimental-feature\u001b[0m                                                       \u001b[2m               \u001b[0m\n",
       "\u001b[2;36m                    \u001b[0m           \u001b[1;35mwarnings.warn\u001b[0m\u001b[1m(\u001b[0m                                                       \u001b[2m               \u001b[0m\n",
       "\u001b[2;36m                    \u001b[0m                                                                                \u001b[2m               \u001b[0m\n"
      ]
     },
     "metadata": {},
     "output_type": "display_data"
    },
    {
     "data": {
      "text/html": [
       "<pre style=\"white-space:pre;overflow-x:auto;line-height:normal;font-family:Menlo,'DejaVu Sans Mono',consolas,'Courier New',monospace\"><span style=\"color: #7fbfbf; text-decoration-color: #7fbfbf\">[05/28/25 22:51:39] </span><span style=\"color: #808000; text-decoration-color: #808000\">WARNING </span> <span style=\"color: #800080; text-decoration-color: #800080\">/Users/goncalopacheco/Documents/</span><span style=\"color: #ff00ff; text-decoration-color: #ff00ff\">Master</span>'s/1º Year/2º semester/Machine   <a href=\"file:///Users/goncalopacheco/.local/share/uv/python/cpython-3.11.12-macos-aarch64-none/lib/python3.11/warnings.py\" target=\"_blank\"><span style=\"color: #7f7f7f; text-decoration-color: #7f7f7f\">warnings.py</span></a><span style=\"color: #7f7f7f; text-decoration-color: #7f7f7f\">:</span><a href=\"file:///Users/goncalopacheco/.local/share/uv/python/cpython-3.11.12-macos-aarch64-none/lib/python3.11/warnings.py#110\" target=\"_blank\"><span style=\"color: #7f7f7f; text-decoration-color: #7f7f7f\">110</span></a>\n",
       "<span style=\"color: #7fbfbf; text-decoration-color: #7fbfbf\">                    </span>         Learning                                                               <span style=\"color: #7f7f7f; text-decoration-color: #7f7f7f\">               </span>\n",
       "<span style=\"color: #7fbfbf; text-decoration-color: #7fbfbf\">                    </span>         Operations/Project/env_1/lib/python3.<span style=\"color: #008080; text-decoration-color: #008080; font-weight: bold\">11</span>/site-packages/mlflow/pyfunc/ut <span style=\"color: #7f7f7f; text-decoration-color: #7f7f7f\">               </span>\n",
       "<span style=\"color: #7fbfbf; text-decoration-color: #7fbfbf\">                    </span>         ils/data_validation.py:<span style=\"color: #008080; text-decoration-color: #008080; font-weight: bold\">168</span>: UserWarning: \u001b<span style=\"font-weight: bold\">[</span>33mAdd type hints to the     <span style=\"color: #7f7f7f; text-decoration-color: #7f7f7f\">               </span>\n",
       "<span style=\"color: #7fbfbf; text-decoration-color: #7fbfbf\">                    </span>         `predict` method to enable data validation and automatic signature     <span style=\"color: #7f7f7f; text-decoration-color: #7f7f7f\">               </span>\n",
       "<span style=\"color: #7fbfbf; text-decoration-color: #7fbfbf\">                    </span>         inference during model logging. Check                                  <span style=\"color: #7f7f7f; text-decoration-color: #7f7f7f\">               </span>\n",
       "<span style=\"color: #7fbfbf; text-decoration-color: #7fbfbf\">                    </span>         <span style=\"color: #0000ff; text-decoration-color: #0000ff; text-decoration: underline\">https://mlflow.org/docs/latest/model/python_model.html#type-hint-usage</span> <span style=\"color: #7f7f7f; text-decoration-color: #7f7f7f\">               </span>\n",
       "<span style=\"color: #7fbfbf; text-decoration-color: #7fbfbf\">                    </span>         <span style=\"color: #0000ff; text-decoration-color: #0000ff; text-decoration: underline\">-in-pythonmodel</span> for more details.\u001b<span style=\"font-weight: bold\">[</span>0m                                   <span style=\"color: #7f7f7f; text-decoration-color: #7f7f7f\">               </span>\n",
       "<span style=\"color: #7fbfbf; text-decoration-color: #7fbfbf\">                    </span>           <span style=\"color: #800080; text-decoration-color: #800080; font-weight: bold\">color_warning</span><span style=\"font-weight: bold\">(</span>                                                       <span style=\"color: #7f7f7f; text-decoration-color: #7f7f7f\">               </span>\n",
       "<span style=\"color: #7fbfbf; text-decoration-color: #7fbfbf\">                    </span>                                                                                <span style=\"color: #7f7f7f; text-decoration-color: #7f7f7f\">               </span>\n",
       "</pre>\n"
      ],
      "text/plain": [
       "\u001b[2;36m[05/28/25 22:51:39]\u001b[0m\u001b[2;36m \u001b[0m\u001b[33mWARNING \u001b[0m \u001b[35m/Users/goncalopacheco/Documents/\u001b[0m\u001b[95mMaster\u001b[0m's/1º Year/2º semester/Machine   \u001b]8;id=944894;file:///Users/goncalopacheco/.local/share/uv/python/cpython-3.11.12-macos-aarch64-none/lib/python3.11/warnings.py\u001b\\\u001b[2mwarnings.py\u001b[0m\u001b]8;;\u001b\\\u001b[2m:\u001b[0m\u001b]8;id=824622;file:///Users/goncalopacheco/.local/share/uv/python/cpython-3.11.12-macos-aarch64-none/lib/python3.11/warnings.py#110\u001b\\\u001b[2m110\u001b[0m\u001b]8;;\u001b\\\n",
       "\u001b[2;36m                    \u001b[0m         Learning                                                               \u001b[2m               \u001b[0m\n",
       "\u001b[2;36m                    \u001b[0m         Operations/Project/env_1/lib/python3.\u001b[1;36m11\u001b[0m/site-packages/mlflow/pyfunc/ut \u001b[2m               \u001b[0m\n",
       "\u001b[2;36m                    \u001b[0m         ils/data_validation.py:\u001b[1;36m168\u001b[0m: UserWarning: \u001b\u001b[1m[\u001b[0m33mAdd type hints to the     \u001b[2m               \u001b[0m\n",
       "\u001b[2;36m                    \u001b[0m         `predict` method to enable data validation and automatic signature     \u001b[2m               \u001b[0m\n",
       "\u001b[2;36m                    \u001b[0m         inference during model logging. Check                                  \u001b[2m               \u001b[0m\n",
       "\u001b[2;36m                    \u001b[0m         \u001b[4;94mhttps://mlflow.org/docs/latest/model/python_model.html#type-hint-usage\u001b[0m \u001b[2m               \u001b[0m\n",
       "\u001b[2;36m                    \u001b[0m         \u001b[4;94m-in-pythonmodel\u001b[0m for more details.\u001b\u001b[1m[\u001b[0m0m                                   \u001b[2m               \u001b[0m\n",
       "\u001b[2;36m                    \u001b[0m           \u001b[1;35mcolor_warning\u001b[0m\u001b[1m(\u001b[0m                                                       \u001b[2m               \u001b[0m\n",
       "\u001b[2;36m                    \u001b[0m                                                                                \u001b[2m               \u001b[0m\n"
      ]
     },
     "metadata": {},
     "output_type": "display_data"
    },
    {
     "data": {
      "text/html": [
       "<pre style=\"white-space:pre;overflow-x:auto;line-height:normal;font-family:Menlo,'DejaVu Sans Mono',consolas,'Courier New',monospace\"><span style=\"color: #7fbfbf; text-decoration-color: #7fbfbf\">                    </span><span style=\"color: #000080; text-decoration-color: #000080\">INFO    </span> Registering new custom resolver: <span style=\"color: #008000; text-decoration-color: #008000\">'km.random_name'</span>                    <span style=\"color: #7f7f7f; text-decoration-color: #7f7f7f\">mlflow_hook.py:65</span>\n",
       "</pre>\n"
      ],
      "text/plain": [
       "\u001b[2;36m                   \u001b[0m\u001b[2;36m \u001b[0m\u001b[34mINFO    \u001b[0m Registering new custom resolver: \u001b[32m'km.random_name'\u001b[0m                    \u001b[2mmlflow_hook.py\u001b[0m\u001b[2m:\u001b[0m\u001b[2m65\u001b[0m\n"
      ]
     },
     "metadata": {},
     "output_type": "display_data"
    },
    {
     "data": {
      "text/html": [
       "<pre style=\"white-space:pre;overflow-x:auto;line-height:normal;font-family:Menlo,'DejaVu Sans Mono',consolas,'Courier New',monospace\"><span style=\"color: #7fbfbf; text-decoration-color: #7fbfbf\">                    </span><span style=\"color: #000080; text-decoration-color: #000080\">INFO    </span> The <span style=\"color: #008000; text-decoration-color: #008000\">'tracking_uri'</span> key in mlflow.yml is relative            <span style=\"color: #7f7f7f; text-decoration-color: #7f7f7f\">kedro_mlflow_config.py:293</span>\n",
       "<span style=\"color: #7fbfbf; text-decoration-color: #7fbfbf\">                    </span>         <span style=\"font-weight: bold\">(</span><span style=\"color: #008000; text-decoration-color: #008000\">'server.mlflow_(tracking|registry)_uri = mlruns'</span><span style=\"font-weight: bold\">)</span>. It is   <span style=\"color: #7f7f7f; text-decoration-color: #7f7f7f\">                          </span>\n",
       "<span style=\"color: #7fbfbf; text-decoration-color: #7fbfbf\">                    </span>         converted to a valid uri:                                   <span style=\"color: #7f7f7f; text-decoration-color: #7f7f7f\">                          </span>\n",
       "<span style=\"color: #7fbfbf; text-decoration-color: #7fbfbf\">                    </span>         <span style=\"color: #008000; text-decoration-color: #008000\">'file:///Users/goncalopacheco/Documents/Master%27s/1%C2%BA%</span> <span style=\"color: #7f7f7f; text-decoration-color: #7f7f7f\">                          </span>\n",
       "<span style=\"color: #7fbfbf; text-decoration-color: #7fbfbf\">                    </span>         <span style=\"color: #008000; text-decoration-color: #008000\">20Year/2%C2%BA%20semester/Machine%20Learning%20Operations/P</span> <span style=\"color: #7f7f7f; text-decoration-color: #7f7f7f\">                          </span>\n",
       "<span style=\"color: #7fbfbf; text-decoration-color: #7fbfbf\">                    </span>         <span style=\"color: #008000; text-decoration-color: #008000\">roject/mlopsproject/mlruns'</span>                                 <span style=\"color: #7f7f7f; text-decoration-color: #7f7f7f\">                          </span>\n",
       "</pre>\n"
      ],
      "text/plain": [
       "\u001b[2;36m                   \u001b[0m\u001b[2;36m \u001b[0m\u001b[34mINFO    \u001b[0m The \u001b[32m'tracking_uri'\u001b[0m key in mlflow.yml is relative            \u001b[2mkedro_mlflow_config.py\u001b[0m\u001b[2m:\u001b[0m\u001b[2m293\u001b[0m\n",
       "\u001b[2;36m                    \u001b[0m         \u001b[1m(\u001b[0m\u001b[32m'server.mlflow_\u001b[0m\u001b[32m(\u001b[0m\u001b[32mtracking|registry\u001b[0m\u001b[32m)\u001b[0m\u001b[32m_uri = mlruns'\u001b[0m\u001b[1m)\u001b[0m. It is   \u001b[2m                          \u001b[0m\n",
       "\u001b[2;36m                    \u001b[0m         converted to a valid uri:                                   \u001b[2m                          \u001b[0m\n",
       "\u001b[2;36m                    \u001b[0m         \u001b[32m'file:///Users/goncalopacheco/Documents/Master%27s/1%C2%BA%\u001b[0m \u001b[2m                          \u001b[0m\n",
       "\u001b[2;36m                    \u001b[0m         \u001b[32m20Year/2%C2%BA%20semester/Machine%20Learning%20Operations/P\u001b[0m \u001b[2m                          \u001b[0m\n",
       "\u001b[2;36m                    \u001b[0m         \u001b[32mroject/mlopsproject/mlruns'\u001b[0m                                 \u001b[2m                          \u001b[0m\n"
      ]
     },
     "metadata": {},
     "output_type": "display_data"
    },
    {
     "data": {
      "text/html": [
       "<pre style=\"white-space:pre;overflow-x:auto;line-height:normal;font-family:Menlo,'DejaVu Sans Mono',consolas,'Courier New',monospace\"><span style=\"color: #7fbfbf; text-decoration-color: #7fbfbf\">                    </span><span style=\"color: #808000; text-decoration-color: #808000\">WARNING </span> <span style=\"color: #800080; text-decoration-color: #800080\">/Users/goncalopacheco/Documents/</span><span style=\"color: #ff00ff; text-decoration-color: #ff00ff\">Master</span>'s/1º Year/2º semester/Machine   <a href=\"file:///Users/goncalopacheco/.local/share/uv/python/cpython-3.11.12-macos-aarch64-none/lib/python3.11/warnings.py\" target=\"_blank\"><span style=\"color: #7f7f7f; text-decoration-color: #7f7f7f\">warnings.py</span></a><span style=\"color: #7f7f7f; text-decoration-color: #7f7f7f\">:</span><a href=\"file:///Users/goncalopacheco/.local/share/uv/python/cpython-3.11.12-macos-aarch64-none/lib/python3.11/warnings.py#110\" target=\"_blank\"><span style=\"color: #7f7f7f; text-decoration-color: #7f7f7f\">110</span></a>\n",
       "<span style=\"color: #7fbfbf; text-decoration-color: #7fbfbf\">                    </span>         Learning                                                               <span style=\"color: #7f7f7f; text-decoration-color: #7f7f7f\">               </span>\n",
       "<span style=\"color: #7fbfbf; text-decoration-color: #7fbfbf\">                    </span>         Operations/Project/env_1/lib/python3.<span style=\"color: #008080; text-decoration-color: #008080; font-weight: bold\">11</span>/site-packages/kedro/io/data_ca <span style=\"color: #7f7f7f; text-decoration-color: #7f7f7f\">               </span>\n",
       "<span style=\"color: #7fbfbf; text-decoration-color: #7fbfbf\">                    </span>         talog.py:<span style=\"color: #008080; text-decoration-color: #008080; font-weight: bold\">165</span>: KedroDeprecationWarning: `DataCatalog` has been          <span style=\"color: #7f7f7f; text-decoration-color: #7f7f7f\">               </span>\n",
       "<span style=\"color: #7fbfbf; text-decoration-color: #7fbfbf\">                    </span>         deprecated and will be replaced by `KedroDataCatalog`, in Kedro        <span style=\"color: #7f7f7f; text-decoration-color: #7f7f7f\">               </span>\n",
       "<span style=\"color: #7fbfbf; text-decoration-color: #7fbfbf\">                    </span>         <span style=\"color: #008080; text-decoration-color: #008080; font-weight: bold\">1.0</span>.<span style=\"color: #008080; text-decoration-color: #008080; font-weight: bold\">0.</span>Currently some `KedroDataCatalog` APIs have been retained for    <span style=\"color: #7f7f7f; text-decoration-color: #7f7f7f\">               </span>\n",
       "<span style=\"color: #7fbfbf; text-decoration-color: #7fbfbf\">                    </span>         compatibility with `DataCatalog`, including the `datasets` property    <span style=\"color: #7f7f7f; text-decoration-color: #7f7f7f\">               </span>\n",
       "<span style=\"color: #7fbfbf; text-decoration-color: #7fbfbf\">                    </span>         and the `get_datasets`, `_get_datasets`, `add`,` list`,                <span style=\"color: #7f7f7f; text-decoration-color: #7f7f7f\">               </span>\n",
       "<span style=\"color: #7fbfbf; text-decoration-color: #7fbfbf\">                    </span>         `add_feed_dict`, and `shallow_copy` methods. These will be removed or  <span style=\"color: #7f7f7f; text-decoration-color: #7f7f7f\">               </span>\n",
       "<span style=\"color: #7fbfbf; text-decoration-color: #7fbfbf\">                    </span>         replaced with updated alternatives in Kedro <span style=\"color: #008080; text-decoration-color: #008080; font-weight: bold\">1.0</span>.<span style=\"color: #008080; text-decoration-color: #008080; font-weight: bold\">0</span>. For more details,   <span style=\"color: #7f7f7f; text-decoration-color: #7f7f7f\">               </span>\n",
       "<span style=\"color: #7fbfbf; text-decoration-color: #7fbfbf\">                    </span>         refer to the documentation:                                            <span style=\"color: #7f7f7f; text-decoration-color: #7f7f7f\">               </span>\n",
       "<span style=\"color: #7fbfbf; text-decoration-color: #7fbfbf\">                    </span>         <span style=\"color: #0000ff; text-decoration-color: #0000ff; text-decoration: underline\">https://docs.kedro.org/en/stable/data/index.html#kedrodatacatalog-expe</span> <span style=\"color: #7f7f7f; text-decoration-color: #7f7f7f\">               </span>\n",
       "<span style=\"color: #7fbfbf; text-decoration-color: #7fbfbf\">                    </span>         <span style=\"color: #0000ff; text-decoration-color: #0000ff; text-decoration: underline\">rimental-feature</span>                                                       <span style=\"color: #7f7f7f; text-decoration-color: #7f7f7f\">               </span>\n",
       "<span style=\"color: #7fbfbf; text-decoration-color: #7fbfbf\">                    </span>           <span style=\"color: #800080; text-decoration-color: #800080; font-weight: bold\">warnings.warn</span><span style=\"font-weight: bold\">(</span>                                                       <span style=\"color: #7f7f7f; text-decoration-color: #7f7f7f\">               </span>\n",
       "<span style=\"color: #7fbfbf; text-decoration-color: #7fbfbf\">                    </span>                                                                                <span style=\"color: #7f7f7f; text-decoration-color: #7f7f7f\">               </span>\n",
       "</pre>\n"
      ],
      "text/plain": [
       "\u001b[2;36m                   \u001b[0m\u001b[2;36m \u001b[0m\u001b[33mWARNING \u001b[0m \u001b[35m/Users/goncalopacheco/Documents/\u001b[0m\u001b[95mMaster\u001b[0m's/1º Year/2º semester/Machine   \u001b]8;id=440430;file:///Users/goncalopacheco/.local/share/uv/python/cpython-3.11.12-macos-aarch64-none/lib/python3.11/warnings.py\u001b\\\u001b[2mwarnings.py\u001b[0m\u001b]8;;\u001b\\\u001b[2m:\u001b[0m\u001b]8;id=371350;file:///Users/goncalopacheco/.local/share/uv/python/cpython-3.11.12-macos-aarch64-none/lib/python3.11/warnings.py#110\u001b\\\u001b[2m110\u001b[0m\u001b]8;;\u001b\\\n",
       "\u001b[2;36m                    \u001b[0m         Learning                                                               \u001b[2m               \u001b[0m\n",
       "\u001b[2;36m                    \u001b[0m         Operations/Project/env_1/lib/python3.\u001b[1;36m11\u001b[0m/site-packages/kedro/io/data_ca \u001b[2m               \u001b[0m\n",
       "\u001b[2;36m                    \u001b[0m         talog.py:\u001b[1;36m165\u001b[0m: KedroDeprecationWarning: `DataCatalog` has been          \u001b[2m               \u001b[0m\n",
       "\u001b[2;36m                    \u001b[0m         deprecated and will be replaced by `KedroDataCatalog`, in Kedro        \u001b[2m               \u001b[0m\n",
       "\u001b[2;36m                    \u001b[0m         \u001b[1;36m1.0\u001b[0m.\u001b[1;36m0.\u001b[0mCurrently some `KedroDataCatalog` APIs have been retained for    \u001b[2m               \u001b[0m\n",
       "\u001b[2;36m                    \u001b[0m         compatibility with `DataCatalog`, including the `datasets` property    \u001b[2m               \u001b[0m\n",
       "\u001b[2;36m                    \u001b[0m         and the `get_datasets`, `_get_datasets`, `add`,` list`,                \u001b[2m               \u001b[0m\n",
       "\u001b[2;36m                    \u001b[0m         `add_feed_dict`, and `shallow_copy` methods. These will be removed or  \u001b[2m               \u001b[0m\n",
       "\u001b[2;36m                    \u001b[0m         replaced with updated alternatives in Kedro \u001b[1;36m1.0\u001b[0m.\u001b[1;36m0\u001b[0m. For more details,   \u001b[2m               \u001b[0m\n",
       "\u001b[2;36m                    \u001b[0m         refer to the documentation:                                            \u001b[2m               \u001b[0m\n",
       "\u001b[2;36m                    \u001b[0m         \u001b[4;94mhttps://docs.kedro.org/en/stable/data/index.html#kedrodatacatalog-expe\u001b[0m \u001b[2m               \u001b[0m\n",
       "\u001b[2;36m                    \u001b[0m         \u001b[4;94mrimental-feature\u001b[0m                                                       \u001b[2m               \u001b[0m\n",
       "\u001b[2;36m                    \u001b[0m           \u001b[1;35mwarnings.warn\u001b[0m\u001b[1m(\u001b[0m                                                       \u001b[2m               \u001b[0m\n",
       "\u001b[2;36m                    \u001b[0m                                                                                \u001b[2m               \u001b[0m\n"
      ]
     },
     "metadata": {},
     "output_type": "display_data"
    },
    {
     "data": {
      "text/html": [
       "<pre style=\"white-space:pre;overflow-x:auto;line-height:normal;font-family:Menlo,'DejaVu Sans Mono',consolas,'Courier New',monospace\"><span style=\"color: #7fbfbf; text-decoration-color: #7fbfbf\">                    </span><span style=\"color: #000080; text-decoration-color: #000080\">INFO    </span> Kedro is sending anonymous usage data with the sole purpose of improving <span style=\"color: #7f7f7f; text-decoration-color: #7f7f7f\">plugin.py:233</span>\n",
       "<span style=\"color: #7fbfbf; text-decoration-color: #7fbfbf\">                    </span>         the product. No personal data or IP addresses are stored on our side. If <span style=\"color: #7f7f7f; text-decoration-color: #7f7f7f\">             </span>\n",
       "<span style=\"color: #7fbfbf; text-decoration-color: #7fbfbf\">                    </span>         you want to opt out, set the `KEDRO_DISABLE_TELEMETRY` or `DO_NOT_TRACK` <span style=\"color: #7f7f7f; text-decoration-color: #7f7f7f\">             </span>\n",
       "<span style=\"color: #7fbfbf; text-decoration-color: #7fbfbf\">                    </span>         environment variables, or create a `.telemetry` file in the current      <span style=\"color: #7f7f7f; text-decoration-color: #7f7f7f\">             </span>\n",
       "<span style=\"color: #7fbfbf; text-decoration-color: #7fbfbf\">                    </span>         working directory with the contents `consent: false`. Read more at       <span style=\"color: #7f7f7f; text-decoration-color: #7f7f7f\">             </span>\n",
       "<span style=\"color: #7fbfbf; text-decoration-color: #7fbfbf\">                    </span>         <span style=\"color: #0000ff; text-decoration-color: #0000ff; text-decoration: underline\">https://docs.kedro.org/en/stable/configuration/telemetry.html</span>            <span style=\"color: #7f7f7f; text-decoration-color: #7f7f7f\">             </span>\n",
       "</pre>\n"
      ],
      "text/plain": [
       "\u001b[2;36m                   \u001b[0m\u001b[2;36m \u001b[0m\u001b[34mINFO    \u001b[0m Kedro is sending anonymous usage data with the sole purpose of improving \u001b[2mplugin.py\u001b[0m\u001b[2m:\u001b[0m\u001b[2m233\u001b[0m\n",
       "\u001b[2;36m                    \u001b[0m         the product. No personal data or IP addresses are stored on our side. If \u001b[2m             \u001b[0m\n",
       "\u001b[2;36m                    \u001b[0m         you want to opt out, set the `KEDRO_DISABLE_TELEMETRY` or `DO_NOT_TRACK` \u001b[2m             \u001b[0m\n",
       "\u001b[2;36m                    \u001b[0m         environment variables, or create a `.telemetry` file in the current      \u001b[2m             \u001b[0m\n",
       "\u001b[2;36m                    \u001b[0m         working directory with the contents `consent: false`. Read more at       \u001b[2m             \u001b[0m\n",
       "\u001b[2;36m                    \u001b[0m         \u001b[4;94mhttps://docs.kedro.org/en/stable/configuration/telemetry.html\u001b[0m            \u001b[2m             \u001b[0m\n"
      ]
     },
     "metadata": {},
     "output_type": "display_data"
    },
    {
     "data": {
      "text/html": [
       "<pre style=\"white-space:pre;overflow-x:auto;line-height:normal;font-family:Menlo,'DejaVu Sans Mono',consolas,'Courier New',monospace\"><span style=\"color: #7fbfbf; text-decoration-color: #7fbfbf\">[05/28/25 22:51:40] </span><span style=\"color: #000080; text-decoration-color: #000080\">INFO    </span> Kedro project mlopsproject                                             <span style=\"color: #7f7f7f; text-decoration-color: #7f7f7f\">__init__.py:146</span>\n",
       "</pre>\n"
      ],
      "text/plain": [
       "\u001b[2;36m[05/28/25 22:51:40]\u001b[0m\u001b[2;36m \u001b[0m\u001b[34mINFO    \u001b[0m Kedro project mlopsproject                                             \u001b[2m__init__.py\u001b[0m\u001b[2m:\u001b[0m\u001b[2m146\u001b[0m\n"
      ]
     },
     "metadata": {},
     "output_type": "display_data"
    },
    {
     "data": {
      "text/html": [
       "<pre style=\"white-space:pre;overflow-x:auto;line-height:normal;font-family:Menlo,'DejaVu Sans Mono',consolas,'Courier New',monospace\"><span style=\"color: #7fbfbf; text-decoration-color: #7fbfbf\">                    </span><span style=\"color: #000080; text-decoration-color: #000080\">INFO    </span> Defined global variable <span style=\"color: #008000; text-decoration-color: #008000\">'context'</span>, <span style=\"color: #008000; text-decoration-color: #008000\">'session'</span>, <span style=\"color: #008000; text-decoration-color: #008000\">'catalog'</span> and            <span style=\"color: #7f7f7f; text-decoration-color: #7f7f7f\">__init__.py:147</span>\n",
       "<span style=\"color: #7fbfbf; text-decoration-color: #7fbfbf\">                    </span>         <span style=\"color: #008000; text-decoration-color: #008000\">'pipelines'</span>                                                            <span style=\"color: #7f7f7f; text-decoration-color: #7f7f7f\">               </span>\n",
       "</pre>\n"
      ],
      "text/plain": [
       "\u001b[2;36m                   \u001b[0m\u001b[2;36m \u001b[0m\u001b[34mINFO    \u001b[0m Defined global variable \u001b[32m'context'\u001b[0m, \u001b[32m'session'\u001b[0m, \u001b[32m'catalog'\u001b[0m and            \u001b[2m__init__.py\u001b[0m\u001b[2m:\u001b[0m\u001b[2m147\u001b[0m\n",
       "\u001b[2;36m                    \u001b[0m         \u001b[32m'pipelines'\u001b[0m                                                            \u001b[2m               \u001b[0m\n"
      ]
     },
     "metadata": {},
     "output_type": "display_data"
    },
    {
     "data": {
      "text/html": [
       "<pre style=\"white-space:pre;overflow-x:auto;line-height:normal;font-family:Menlo,'DejaVu Sans Mono',consolas,'Courier New',monospace\"><span style=\"color: #7fbfbf; text-decoration-color: #7fbfbf\">                    </span><span style=\"color: #000080; text-decoration-color: #000080\">INFO    </span> Registered line magic <span style=\"color: #008000; text-decoration-color: #008000\">'run_viz'</span>                                        <span style=\"color: #7f7f7f; text-decoration-color: #7f7f7f\">__init__.py:153</span>\n",
       "</pre>\n"
      ],
      "text/plain": [
       "\u001b[2;36m                   \u001b[0m\u001b[2;36m \u001b[0m\u001b[34mINFO    \u001b[0m Registered line magic \u001b[32m'run_viz'\u001b[0m                                        \u001b[2m__init__.py\u001b[0m\u001b[2m:\u001b[0m\u001b[2m153\u001b[0m\n"
      ]
     },
     "metadata": {},
     "output_type": "display_data"
    }
   ],
   "source": [
    "%load_ext kedro.ipython"
   ]
  },
  {
   "cell_type": "code",
   "execution_count": 3,
   "id": "9b0134cd",
   "metadata": {},
   "outputs": [
    {
     "data": {
      "text/html": [
       "<pre style=\"white-space:pre;overflow-x:auto;line-height:normal;font-family:Menlo,'DejaVu Sans Mono',consolas,'Courier New',monospace\"></pre>\n"
      ],
      "text/plain": []
     },
     "metadata": {},
     "output_type": "display_data"
    },
    {
     "data": {
      "text/plain": [
       "\n",
       "\u001b[1m{\u001b[0m\u001b[32m'heart_data_raw'\u001b[0m: \u001b[32m'kedro_datasets.pandas.csv_dataset.CSVDataset\u001b[0m\u001b[32m(\u001b[0m\u001b[32mfilepath\u001b[0m\u001b[32m=\u001b[0m\u001b[32mPurePosixPath\u001b[0m\u001b[32m(\u001b[0m\u001b[32m\"/Users/goncalopacheco/Documents/Master\\'s/1º '\u001b[0m\n",
       "                   \u001b[32m'Year/2º semester/Machine Learning '\u001b[0m\n",
       "                   \u001b[32m'Operations/Project/mlopsproject/data/01_raw/heart_statlog_cleveland_hungary_final.csv\"\u001b[0m\u001b[32m)\u001b[0m\u001b[32m, '\u001b[0m\n",
       "                   \u001b[32m\"\u001b[0m\u001b[32mprotocol\u001b[0m\u001b[32m='file', \u001b[0m\u001b[32mload_args\u001b[0m\u001b[32m=\u001b[0m\u001b[32m{\u001b[0m\u001b[32m}\u001b[0m\u001b[32m, \u001b[0m\u001b[32msave_args\u001b[0m\u001b[32m=\u001b[0m\u001b[32m{\u001b[0m\u001b[32m'index': False\u001b[0m\u001b[32m}\u001b[0m\u001b[32m)\u001b[0m\u001b[32m\"\u001b[0m,\n",
       " \u001b[32m'preprocessed_data'\u001b[0m: \u001b[32m'kedro_datasets.pandas.csv_dataset.CSVDataset\u001b[0m\u001b[32m(\u001b[0m\u001b[32mfilepath\u001b[0m\u001b[32m=\u001b[0m\u001b[32mPurePosixPath\u001b[0m\u001b[32m(\u001b[0m\u001b[32m\"/Users/goncalopacheco/Documents/Master\\'s/1º '\u001b[0m\n",
       "                      \u001b[32m'Year/2º semester/Machine Learning '\u001b[0m\n",
       "                      \u001b[32m'Operations/Project/mlopsproject/data/03_primary/preprocessed_data.csv\"\u001b[0m\u001b[32m)\u001b[0m\u001b[32m, '\u001b[0m\n",
       "                      \u001b[32m\"\u001b[0m\u001b[32mprotocol\u001b[0m\u001b[32m='file', \u001b[0m\u001b[32mload_args\u001b[0m\u001b[32m=\u001b[0m\u001b[32m{\u001b[0m\u001b[32m}\u001b[0m\u001b[32m, \u001b[0m\u001b[32msave_args\u001b[0m\u001b[32m=\u001b[0m\u001b[32m{\u001b[0m\u001b[32m'index': \"\u001b[0m\n",
       "                      \u001b[32m'False\u001b[0m\u001b[32m}\u001b[0m\u001b[32m)\u001b[0m\u001b[32m'\u001b[0m,\n",
       " \u001b[32m'parameters'\u001b[0m: \u001b[32m\"kedro.io.memory_dataset.MemoryDataset\u001b[0m\u001b[32m(\u001b[0m\u001b[32mdata\u001b[0m\u001b[32m='\u001b[0m\u001b[32m<\u001b[0m\u001b[32mdict\u001b[0m\u001b[32m>'\u001b[0m\u001b[32m)\u001b[0m\u001b[32m\"\u001b[0m\u001b[39m,\u001b[0m\n",
       "\u001b[39m \u001b[0m\u001b[32m'params:model_options'\u001b[0m\u001b[39m: \u001b[0m\u001b[32m\"kedro.io.memory_dataset.MemoryDataset\u001b[0m\u001b[32m(\u001b[0m\u001b[32mdata\u001b[0m\u001b[32m='<dict>'\u001b[0m\u001b[32m)\u001b[0m\u001b[32m\"\u001b[0m\u001b[39m,\u001b[0m\n",
       "\u001b[39m \u001b[0m\u001b[32m'params:model_options.test_size'\u001b[0m\u001b[39m: \u001b[0m\u001b[32m\"kedro.io.memory_dataset.MemoryDataset\u001b[0m\u001b[32m(\u001b[0m\u001b[32mdata\u001b[0m\u001b[32m='<float>'\u001b[0m\u001b[32m)\u001b[0m\u001b[32m\"\u001b[0m\u001b[39m,\u001b[0m\n",
       "\u001b[39m \u001b[0m\u001b[32m'params:model_options.random_state'\u001b[0m\u001b[39m: \u001b[0m\u001b[32m\"kedro.io.memory_dataset.MemoryDataset\u001b[0m\u001b[32m(\u001b[0m\u001b[32mdata\u001b[0m\u001b[32m='<int>'\u001b[0m\u001b[32m)\u001b[0m\u001b[32m\"\u001b[0m\u001b[39m,\u001b[0m\n",
       "\u001b[39m \u001b[0m\u001b[32m'params:model_options.features'\u001b[0m\u001b[39m: \u001b[0m\u001b[32m\"kedro.io.memory_dataset.MemoryDataset\u001b[0m\u001b[32m(\u001b[0m\u001b[32mdata\u001b[0m\u001b[32m='<list\u001b[0m\u001b[32m>\u001b[0m\u001b[32m'\u001b[0m\u001b[32m)\u001b[0m\u001b[32m\"\u001b[0m\u001b[1m}\u001b[0m"
      ]
     },
     "execution_count": 3,
     "metadata": {},
     "output_type": "execute_result"
    }
   ],
   "source": [
    "catalog"
   ]
  },
  {
   "cell_type": "code",
   "execution_count": 4,
   "id": "570ed6ba",
   "metadata": {},
   "outputs": [],
   "source": [
    "# display all columns\n",
    "pd.set_option('display.max_columns', None)"
   ]
  },
  {
   "cell_type": "code",
   "execution_count": 5,
   "id": "d1f7a748",
   "metadata": {},
   "outputs": [
    {
     "data": {
      "text/html": [
       "<pre style=\"white-space:pre;overflow-x:auto;line-height:normal;font-family:Menlo,'DejaVu Sans Mono',consolas,'Courier New',monospace\"><span style=\"color: #7fbfbf; text-decoration-color: #7fbfbf\">                    </span><span style=\"color: #000080; text-decoration-color: #000080\">INFO    </span> Loading data from <span style=\"color: #ff8700; text-decoration-color: #ff8700\">preprocessed_data</span> <span style=\"font-weight: bold\">(</span>CSVDataset<span style=\"font-weight: bold\">)</span><span style=\"color: #808000; text-decoration-color: #808000\">...</span>                <span style=\"color: #7f7f7f; text-decoration-color: #7f7f7f\">data_catalog.py:401</span>\n",
       "</pre>\n"
      ],
      "text/plain": [
       "\u001b[2;36m                   \u001b[0m\u001b[2;36m \u001b[0m\u001b[34mINFO    \u001b[0m Loading data from \u001b[38;5;208mpreprocessed_data\u001b[0m \u001b[1m(\u001b[0mCSVDataset\u001b[1m)\u001b[0m\u001b[33m...\u001b[0m                \u001b[2mdata_catalog.py\u001b[0m\u001b[2m:\u001b[0m\u001b[2m401\u001b[0m\n"
      ]
     },
     "metadata": {},
     "output_type": "display_data"
    },
    {
     "data": {
      "text/html": [
       "<pre style=\"white-space:pre;overflow-x:auto;line-height:normal;font-family:Menlo,'DejaVu Sans Mono',consolas,'Courier New',monospace\"></pre>\n"
      ],
      "text/plain": []
     },
     "metadata": {},
     "output_type": "display_data"
    },
    {
     "data": {
      "text/html": [
       "<div>\n",
       "<style scoped>\n",
       "    .dataframe tbody tr th:only-of-type {\n",
       "        vertical-align: middle;\n",
       "    }\n",
       "\n",
       "    .dataframe tbody tr th {\n",
       "        vertical-align: top;\n",
       "    }\n",
       "\n",
       "    .dataframe thead th {\n",
       "        text-align: right;\n",
       "    }\n",
       "</style>\n",
       "<table border=\"1\" class=\"dataframe\">\n",
       "  <thead>\n",
       "    <tr style=\"text-align: right;\">\n",
       "      <th></th>\n",
       "      <th>age</th>\n",
       "      <th>sex</th>\n",
       "      <th>chest pain type</th>\n",
       "      <th>resting bp s</th>\n",
       "      <th>cholesterol</th>\n",
       "      <th>fasting blood sugar</th>\n",
       "      <th>resting ecg</th>\n",
       "      <th>max heart rate</th>\n",
       "      <th>exercise angina</th>\n",
       "      <th>oldpeak</th>\n",
       "      <th>ST slope</th>\n",
       "      <th>target</th>\n",
       "    </tr>\n",
       "  </thead>\n",
       "  <tbody>\n",
       "    <tr>\n",
       "      <th>0</th>\n",
       "      <td>0-40</td>\n",
       "      <td>1</td>\n",
       "      <td>2</td>\n",
       "      <td>140</td>\n",
       "      <td>high</td>\n",
       "      <td>0</td>\n",
       "      <td>0</td>\n",
       "      <td>172</td>\n",
       "      <td>0</td>\n",
       "      <td>0.0</td>\n",
       "      <td>1</td>\n",
       "      <td>0</td>\n",
       "    </tr>\n",
       "    <tr>\n",
       "      <th>1</th>\n",
       "      <td>41-50</td>\n",
       "      <td>0</td>\n",
       "      <td>3</td>\n",
       "      <td>160</td>\n",
       "      <td>normal</td>\n",
       "      <td>0</td>\n",
       "      <td>0</td>\n",
       "      <td>156</td>\n",
       "      <td>0</td>\n",
       "      <td>1.0</td>\n",
       "      <td>2</td>\n",
       "      <td>1</td>\n",
       "    </tr>\n",
       "    <tr>\n",
       "      <th>2</th>\n",
       "      <td>0-40</td>\n",
       "      <td>1</td>\n",
       "      <td>2</td>\n",
       "      <td>130</td>\n",
       "      <td>high</td>\n",
       "      <td>0</td>\n",
       "      <td>1</td>\n",
       "      <td>98</td>\n",
       "      <td>0</td>\n",
       "      <td>0.0</td>\n",
       "      <td>1</td>\n",
       "      <td>0</td>\n",
       "    </tr>\n",
       "    <tr>\n",
       "      <th>3</th>\n",
       "      <td>41-50</td>\n",
       "      <td>0</td>\n",
       "      <td>4</td>\n",
       "      <td>138</td>\n",
       "      <td>borderline high</td>\n",
       "      <td>0</td>\n",
       "      <td>0</td>\n",
       "      <td>108</td>\n",
       "      <td>1</td>\n",
       "      <td>1.5</td>\n",
       "      <td>2</td>\n",
       "      <td>1</td>\n",
       "    </tr>\n",
       "    <tr>\n",
       "      <th>4</th>\n",
       "      <td>51-60</td>\n",
       "      <td>1</td>\n",
       "      <td>3</td>\n",
       "      <td>150</td>\n",
       "      <td>normal</td>\n",
       "      <td>0</td>\n",
       "      <td>0</td>\n",
       "      <td>122</td>\n",
       "      <td>0</td>\n",
       "      <td>0.0</td>\n",
       "      <td>1</td>\n",
       "      <td>0</td>\n",
       "    </tr>\n",
       "    <tr>\n",
       "      <th>...</th>\n",
       "      <td>...</td>\n",
       "      <td>...</td>\n",
       "      <td>...</td>\n",
       "      <td>...</td>\n",
       "      <td>...</td>\n",
       "      <td>...</td>\n",
       "      <td>...</td>\n",
       "      <td>...</td>\n",
       "      <td>...</td>\n",
       "      <td>...</td>\n",
       "      <td>...</td>\n",
       "      <td>...</td>\n",
       "    </tr>\n",
       "    <tr>\n",
       "      <th>739</th>\n",
       "      <td>41-50</td>\n",
       "      <td>1</td>\n",
       "      <td>1</td>\n",
       "      <td>110</td>\n",
       "      <td>high</td>\n",
       "      <td>0</td>\n",
       "      <td>0</td>\n",
       "      <td>132</td>\n",
       "      <td>0</td>\n",
       "      <td>1.2</td>\n",
       "      <td>2</td>\n",
       "      <td>1</td>\n",
       "    </tr>\n",
       "    <tr>\n",
       "      <th>740</th>\n",
       "      <td>61-70</td>\n",
       "      <td>1</td>\n",
       "      <td>4</td>\n",
       "      <td>144</td>\n",
       "      <td>normal</td>\n",
       "      <td>1</td>\n",
       "      <td>0</td>\n",
       "      <td>141</td>\n",
       "      <td>0</td>\n",
       "      <td>3.4</td>\n",
       "      <td>2</td>\n",
       "      <td>1</td>\n",
       "    </tr>\n",
       "    <tr>\n",
       "      <th>741</th>\n",
       "      <td>51-60</td>\n",
       "      <td>1</td>\n",
       "      <td>4</td>\n",
       "      <td>130</td>\n",
       "      <td>normal</td>\n",
       "      <td>0</td>\n",
       "      <td>0</td>\n",
       "      <td>115</td>\n",
       "      <td>1</td>\n",
       "      <td>1.2</td>\n",
       "      <td>2</td>\n",
       "      <td>1</td>\n",
       "    </tr>\n",
       "    <tr>\n",
       "      <th>742</th>\n",
       "      <td>51-60</td>\n",
       "      <td>0</td>\n",
       "      <td>2</td>\n",
       "      <td>130</td>\n",
       "      <td>borderline high</td>\n",
       "      <td>0</td>\n",
       "      <td>2</td>\n",
       "      <td>174</td>\n",
       "      <td>0</td>\n",
       "      <td>0.0</td>\n",
       "      <td>2</td>\n",
       "      <td>1</td>\n",
       "    </tr>\n",
       "    <tr>\n",
       "      <th>743</th>\n",
       "      <td>0-40</td>\n",
       "      <td>1</td>\n",
       "      <td>3</td>\n",
       "      <td>138</td>\n",
       "      <td>normal</td>\n",
       "      <td>0</td>\n",
       "      <td>0</td>\n",
       "      <td>173</td>\n",
       "      <td>0</td>\n",
       "      <td>0.0</td>\n",
       "      <td>1</td>\n",
       "      <td>0</td>\n",
       "    </tr>\n",
       "  </tbody>\n",
       "</table>\n",
       "<p>744 rows × 12 columns</p>\n",
       "</div>"
      ],
      "text/plain": [
       "\n",
       "       age  sex  chest pain type  resting bp s      cholesterol  \\\n",
       "\u001b[1;36m0\u001b[0m     \u001b[1;36m0\u001b[0m-\u001b[1;36m40\u001b[0m    \u001b[1;36m1\u001b[0m                \u001b[1;36m2\u001b[0m           \u001b[1;36m140\u001b[0m             high   \n",
       "\u001b[1;36m1\u001b[0m    \u001b[1;36m41\u001b[0m-\u001b[1;36m50\u001b[0m    \u001b[1;36m0\u001b[0m                \u001b[1;36m3\u001b[0m           \u001b[1;36m160\u001b[0m           normal   \n",
       "\u001b[1;36m2\u001b[0m     \u001b[1;36m0\u001b[0m-\u001b[1;36m40\u001b[0m    \u001b[1;36m1\u001b[0m                \u001b[1;36m2\u001b[0m           \u001b[1;36m130\u001b[0m             high   \n",
       "\u001b[1;36m3\u001b[0m    \u001b[1;36m41\u001b[0m-\u001b[1;36m50\u001b[0m    \u001b[1;36m0\u001b[0m                \u001b[1;36m4\u001b[0m           \u001b[1;36m138\u001b[0m  borderline high   \n",
       "\u001b[1;36m4\u001b[0m    \u001b[1;36m51\u001b[0m-\u001b[1;36m60\u001b[0m    \u001b[1;36m1\u001b[0m                \u001b[1;36m3\u001b[0m           \u001b[1;36m150\u001b[0m           normal   \n",
       "..     \u001b[33m...\u001b[0m  \u001b[33m...\u001b[0m              \u001b[33m...\u001b[0m           \u001b[33m...\u001b[0m              \u001b[33m...\u001b[0m   \n",
       "\u001b[1;36m739\u001b[0m  \u001b[1;36m41\u001b[0m-\u001b[1;36m50\u001b[0m    \u001b[1;36m1\u001b[0m                \u001b[1;36m1\u001b[0m           \u001b[1;36m110\u001b[0m             high   \n",
       "\u001b[1;36m740\u001b[0m  \u001b[1;36m61\u001b[0m-\u001b[1;36m70\u001b[0m    \u001b[1;36m1\u001b[0m                \u001b[1;36m4\u001b[0m           \u001b[1;36m144\u001b[0m           normal   \n",
       "\u001b[1;36m741\u001b[0m  \u001b[1;36m51\u001b[0m-\u001b[1;36m60\u001b[0m    \u001b[1;36m1\u001b[0m                \u001b[1;36m4\u001b[0m           \u001b[1;36m130\u001b[0m           normal   \n",
       "\u001b[1;36m742\u001b[0m  \u001b[1;36m51\u001b[0m-\u001b[1;36m60\u001b[0m    \u001b[1;36m0\u001b[0m                \u001b[1;36m2\u001b[0m           \u001b[1;36m130\u001b[0m  borderline high   \n",
       "\u001b[1;36m743\u001b[0m   \u001b[1;36m0\u001b[0m-\u001b[1;36m40\u001b[0m    \u001b[1;36m1\u001b[0m                \u001b[1;36m3\u001b[0m           \u001b[1;36m138\u001b[0m           normal   \n",
       "\n",
       "     fasting blood sugar  resting ecg  max heart rate  exercise angina  \\\n",
       "\u001b[1;36m0\u001b[0m                      \u001b[1;36m0\u001b[0m            \u001b[1;36m0\u001b[0m             \u001b[1;36m172\u001b[0m                \u001b[1;36m0\u001b[0m   \n",
       "\u001b[1;36m1\u001b[0m                      \u001b[1;36m0\u001b[0m            \u001b[1;36m0\u001b[0m             \u001b[1;36m156\u001b[0m                \u001b[1;36m0\u001b[0m   \n",
       "\u001b[1;36m2\u001b[0m                      \u001b[1;36m0\u001b[0m            \u001b[1;36m1\u001b[0m              \u001b[1;36m98\u001b[0m                \u001b[1;36m0\u001b[0m   \n",
       "\u001b[1;36m3\u001b[0m                      \u001b[1;36m0\u001b[0m            \u001b[1;36m0\u001b[0m             \u001b[1;36m108\u001b[0m                \u001b[1;36m1\u001b[0m   \n",
       "\u001b[1;36m4\u001b[0m                      \u001b[1;36m0\u001b[0m            \u001b[1;36m0\u001b[0m             \u001b[1;36m122\u001b[0m                \u001b[1;36m0\u001b[0m   \n",
       "..                   \u001b[33m...\u001b[0m          \u001b[33m...\u001b[0m             \u001b[33m...\u001b[0m              \u001b[33m...\u001b[0m   \n",
       "\u001b[1;36m739\u001b[0m                    \u001b[1;36m0\u001b[0m            \u001b[1;36m0\u001b[0m             \u001b[1;36m132\u001b[0m                \u001b[1;36m0\u001b[0m   \n",
       "\u001b[1;36m740\u001b[0m                    \u001b[1;36m1\u001b[0m            \u001b[1;36m0\u001b[0m             \u001b[1;36m141\u001b[0m                \u001b[1;36m0\u001b[0m   \n",
       "\u001b[1;36m741\u001b[0m                    \u001b[1;36m0\u001b[0m            \u001b[1;36m0\u001b[0m             \u001b[1;36m115\u001b[0m                \u001b[1;36m1\u001b[0m   \n",
       "\u001b[1;36m742\u001b[0m                    \u001b[1;36m0\u001b[0m            \u001b[1;36m2\u001b[0m             \u001b[1;36m174\u001b[0m                \u001b[1;36m0\u001b[0m   \n",
       "\u001b[1;36m743\u001b[0m                    \u001b[1;36m0\u001b[0m            \u001b[1;36m0\u001b[0m             \u001b[1;36m173\u001b[0m                \u001b[1;36m0\u001b[0m   \n",
       "\n",
       "     oldpeak  ST slope  target  \n",
       "\u001b[1;36m0\u001b[0m        \u001b[1;36m0.0\u001b[0m         \u001b[1;36m1\u001b[0m       \u001b[1;36m0\u001b[0m  \n",
       "\u001b[1;36m1\u001b[0m        \u001b[1;36m1.0\u001b[0m         \u001b[1;36m2\u001b[0m       \u001b[1;36m1\u001b[0m  \n",
       "\u001b[1;36m2\u001b[0m        \u001b[1;36m0.0\u001b[0m         \u001b[1;36m1\u001b[0m       \u001b[1;36m0\u001b[0m  \n",
       "\u001b[1;36m3\u001b[0m        \u001b[1;36m1.5\u001b[0m         \u001b[1;36m2\u001b[0m       \u001b[1;36m1\u001b[0m  \n",
       "\u001b[1;36m4\u001b[0m        \u001b[1;36m0.0\u001b[0m         \u001b[1;36m1\u001b[0m       \u001b[1;36m0\u001b[0m  \n",
       "..       \u001b[33m...\u001b[0m       \u001b[33m...\u001b[0m     \u001b[33m...\u001b[0m  \n",
       "\u001b[1;36m739\u001b[0m      \u001b[1;36m1.2\u001b[0m         \u001b[1;36m2\u001b[0m       \u001b[1;36m1\u001b[0m  \n",
       "\u001b[1;36m740\u001b[0m      \u001b[1;36m3.4\u001b[0m         \u001b[1;36m2\u001b[0m       \u001b[1;36m1\u001b[0m  \n",
       "\u001b[1;36m741\u001b[0m      \u001b[1;36m1.2\u001b[0m         \u001b[1;36m2\u001b[0m       \u001b[1;36m1\u001b[0m  \n",
       "\u001b[1;36m742\u001b[0m      \u001b[1;36m0.0\u001b[0m         \u001b[1;36m2\u001b[0m       \u001b[1;36m1\u001b[0m  \n",
       "\u001b[1;36m743\u001b[0m      \u001b[1;36m0.0\u001b[0m         \u001b[1;36m1\u001b[0m       \u001b[1;36m0\u001b[0m  \n",
       "\n",
       "\u001b[1m[\u001b[0m\u001b[1;36m744\u001b[0m rows x \u001b[1;36m12\u001b[0m columns\u001b[1m]\u001b[0m"
      ]
     },
     "execution_count": 5,
     "metadata": {},
     "output_type": "execute_result"
    }
   ],
   "source": [
    "df = catalog.load(\"preprocessed_data\")\n",
    "df"
   ]
  }
 ],
 "metadata": {
  "kernelspec": {
   "display_name": "env1",
   "language": "python",
   "name": "env1"
  },
  "language_info": {
   "codemirror_mode": {
    "name": "ipython",
    "version": 3
   },
   "file_extension": ".py",
   "mimetype": "text/x-python",
   "name": "python",
   "nbconvert_exporter": "python",
   "pygments_lexer": "ipython3",
   "version": "3.11.12"
  }
 },
 "nbformat": 4,
 "nbformat_minor": 5
}
